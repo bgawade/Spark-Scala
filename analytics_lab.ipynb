{
  "nbformat": 4,
  "nbformat_minor": 0,
  "metadata": {
    "colab": {
      "provenance": [],
      "toc_visible": true,
      "include_colab_link": true
    },
    "kernelspec": {
      "name": "python3",
      "display_name": "Python 3"
    },
    "language_info": {
      "name": "python"
    }
  },
  "cells": [
    {
      "cell_type": "markdown",
      "metadata": {
        "id": "view-in-github",
        "colab_type": "text"
      },
      "source": [
        "<a href=\"https://colab.research.google.com/github/bgawade/Hellow-world/blob/master/analytics_lab.ipynb\" target=\"_parent\"><img src=\"https://colab.research.google.com/assets/colab-badge.svg\" alt=\"Open In Colab\"/></a>"
      ]
    },
    {
      "cell_type": "code",
      "execution_count": 1,
      "metadata": {
        "id": "eaWTHQNkPZuy",
        "colab": {
          "base_uri": "https://localhost:8080/"
        },
        "outputId": "7d5a6532-c7f6-458f-d58a-7c25ea1fa9d2"
      },
      "outputs": [
        {
          "output_type": "stream",
          "name": "stdout",
          "text": [
            "Looking in indexes: https://pypi.org/simple, https://us-python.pkg.dev/colab-wheels/public/simple/\n",
            "Collecting pyspark\n",
            "  Downloading pyspark-3.4.0.tar.gz (310.8 MB)\n",
            "\u001b[2K     \u001b[90m━━━━━━━━━━━━━━━━━━━━━━━━━━━━━━━━━━━━━━━\u001b[0m \u001b[32m310.8/310.8 MB\u001b[0m \u001b[31m4.9 MB/s\u001b[0m eta \u001b[36m0:00:00\u001b[0m\n",
            "\u001b[?25h  Preparing metadata (setup.py) ... \u001b[?25l\u001b[?25hdone\n",
            "Requirement already satisfied: py4j==0.10.9.7 in /usr/local/lib/python3.10/dist-packages (from pyspark) (0.10.9.7)\n",
            "Building wheels for collected packages: pyspark\n",
            "  Building wheel for pyspark (setup.py) ... \u001b[?25l\u001b[?25hdone\n",
            "  Created wheel for pyspark: filename=pyspark-3.4.0-py2.py3-none-any.whl size=311317130 sha256=7452193c7b8fe05433b5019c93fbf9906a4ed80d67bf51dd01a1730e6a497a43\n",
            "  Stored in directory: /root/.cache/pip/wheels/7b/1b/4b/3363a1d04368e7ff0d408e57ff57966fcdf00583774e761327\n",
            "Successfully built pyspark\n",
            "Installing collected packages: pyspark\n",
            "Successfully installed pyspark-3.4.0\n"
          ]
        }
      ],
      "source": [
        "pip install pyspark"
      ]
    },
    {
      "cell_type": "code",
      "source": [
        "#@title Default title text\n",
        "## Download Input dataset for analytics\n",
        "# https://propensity-labs-screening.s3.amazonaws.com/analytics/analytics_input.csv"
      ],
      "metadata": {
        "id": "OrMgxoJdS4iE"
      },
      "execution_count": 3,
      "outputs": []
    },
    {
      "cell_type": "code",
      "source": [
        "#Create Spark Session\n",
        "import org.apache.spark.sql._\n",
        "val spark = SparkSession.builder().appName(\"Analytics_Lab\").enableHiveSupport().getOrCreate()"
      ],
      "metadata": {
        "id": "bJYXF2LoQTDy"
      },
      "execution_count": null,
      "outputs": []
    },
    {
      "cell_type": "code",
      "source": [
        "#Read CSV to Dataframe\n",
        "val df = spark.read.options.(Map(\"inferSchema\"->\"true\",\"delimiter\"->\",\",\"header\"->\"true\")).csv(\"https://propensity-labs-screening.s3.amazonaws.com/analytics/analytics_input.csv\")"
      ],
      "metadata": {
        "id": "6vynaG5uQVpa"
      },
      "execution_count": null,
      "outputs": []
    },
    {
      "cell_type": "code",
      "source": [
        "#Display Scheme\n",
        "df.show(false)"
      ],
      "metadata": {
        "id": "EgVO9UBuQYNi"
      },
      "execution_count": null,
      "outputs": []
    },
    {
      "cell_type": "code",
      "source": [
        "#Change Column names to remove spaces, lower case and replace spaces in column names with \"_\" (underscore)\n",
        "val cols = df.columns\n",
        "val newcol = cols.map(p=>p.replace(' ','_').toLowerCase())\n",
        "val new_df = df.toDF(newcol:_*)"
      ],
      "metadata": {
        "id": "O8yoK7csQbyc",
        "colab": {
          "base_uri": "https://localhost:8080/",
          "height": 131
        },
        "outputId": "f90e893d-e11c-4984-ec6b-5b2992944548"
      },
      "execution_count": 1,
      "outputs": [
        {
          "output_type": "error",
          "ename": "SyntaxError",
          "evalue": "ignored",
          "traceback": [
            "\u001b[0;36m  File \u001b[0;32m\"<ipython-input-1-1c4c8ee9c03c>\"\u001b[0;36m, line \u001b[0;32m2\u001b[0m\n\u001b[0;31m    val cols:Array[String]=df.columns\u001b[0m\n\u001b[0m        ^\u001b[0m\n\u001b[0;31mSyntaxError\u001b[0m\u001b[0;31m:\u001b[0m invalid syntax\n"
          ]
        }
      ]
    },
    {
      "cell_type": "code",
      "source": [
        "#Identify all rows with Null values for provider id\n",
        "newdf.filter(col(\"provider_id\").isNull)"
      ],
      "metadata": {
        "id": "DXRoYwGVQjHK"
      },
      "execution_count": null,
      "outputs": []
    },
    {
      "cell_type": "code",
      "source": [
        "#Change fields with Payment information into numbers by using Lambda functions in python\n",
        "newdf.withColumn(\"average_covered_charges\",col(\"average_covered_charges \").cast(\"int\"))\n",
        "newdf.withColumn(\"average_total_payments \",col(\"average_total_payments\").cast(\"int\"))\n",
        "newdf.withColumn(\"average_medicare_payments\",col(\"average_medicare_payments\").cast(\"int\"))"
      ],
      "metadata": {
        "id": "zF-wpjH2RJ7h"
      },
      "execution_count": null,
      "outputs": []
    },
    {
      "cell_type": "code",
      "source": [
        "#Plot a Bar chart by state and \"Average Total Payments\" and zip code vs \"total_charges\""
      ],
      "metadata": {
        "id": "52t4pR-BR8qG"
      },
      "execution_count": null,
      "outputs": []
    },
    {
      "cell_type": "code",
      "source": [
        "#BONUS - Plot intersting statistics from the dataset"
      ],
      "metadata": {
        "id": "6unkHfqBSahu"
      },
      "execution_count": null,
      "outputs": []
    },
    {
      "cell_type": "code",
      "source": [
        "#Write the Dataset to a Parquet format partitioned by State\n",
        "newdf.write.partitionBy(\"state\").parquet(\"/out/analytics/analytics_output.parquet\")"
      ],
      "metadata": {
        "id": "9G_U_KWzSfnq"
      },
      "execution_count": null,
      "outputs": []
    }
  ]
}